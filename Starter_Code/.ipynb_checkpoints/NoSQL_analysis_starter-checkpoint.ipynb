{
 "cells": [
  {
   "cell_type": "markdown",
   "id": "9a57c4c6",
   "metadata": {},
   "source": [
    "# Eat Safe, Love"
   ]
  },
  {
   "cell_type": "markdown",
   "id": "064ef857",
   "metadata": {},
   "source": [
    "## Notebook Set Up"
   ]
  },
  {
   "cell_type": "code",
   "execution_count": null,
   "id": "3ecdd008",
   "metadata": {},
   "outputs": [],
   "source": [
    "# Import dependencies\n",
    "from pymongo import MongoClient\n",
    "from pprint import pprint\n",
    "from pandas import pandas as pd"
   ]
  },
  {
   "cell_type": "code",
   "execution_count": null,
   "id": "59390c4a",
   "metadata": {},
   "outputs": [],
   "source": [
    "# Create an instance of MongoClient\n",
    "mongo = MongoClient(port=27017)"
   ]
  },
  {
   "cell_type": "code",
   "execution_count": null,
   "id": "71e373c1",
   "metadata": {},
   "outputs": [],
   "source": [
    "# assign the uk_food database to a variable name\n",
    "db = mongo['uk_food']"
   ]
  },
  {
   "cell_type": "code",
   "execution_count": null,
   "id": "18ab463c",
   "metadata": {},
   "outputs": [],
   "source": [
    "# review the collections in our database\n",
    "print(db.list_collection_names())"
   ]
  },
  {
   "cell_type": "code",
   "execution_count": null,
   "id": "11c9f11b",
   "metadata": {},
   "outputs": [],
   "source": [
    "# assign the collection to a variable\n",
    "establishments = db['establishments']"
   ]
  },
  {
   "cell_type": "markdown",
   "id": "d5671434",
   "metadata": {},
   "source": [
    "## Part 3: Exploratory Analysis\n",
    "Unless otherwise stated, for each question: \n",
    "* Use `count_documents` to display the number of documents contained in the result.\n",
    "* Display the first document in the results using `pprint`.\n",
    "* Convert the result to a Pandas DataFrame, print the number of rows in the DataFrame, and display the first 10 rows."
   ]
  },
  {
   "cell_type": "markdown",
   "id": "314bd884",
   "metadata": {},
   "source": [
    "### 1. Which establishments have a hygiene score equal to 20?"
   ]
  },
  {
   "cell_type": "code",
   "execution_count": null,
   "id": "c2da7648",
   "metadata": {},
   "outputs": [],
   "source": [
    "# Find the establishments with a hygiene score of 20\n",
    "match_query = {'$match': {'scores.Hygiene': {'$gte': 20}}}\n",
    "\n",
    "# Use count_documents to display the number of documents in the result\n",
    "hygiene_20_count = establishments.count_documents({'scores.Hygiene':20})\n",
    "print(f\"There are {hygiene_20_count} establishments with a hygiene score of 20\")\n",
    "# Display the first document in the results using pprint\n",
    "first_hygiene_doc = establishments.find_one({'scores.Hygiene':20})\n",
    "pprint(first_hygiene_doc)"
   ]
  },
  {
   "cell_type": "code",
   "execution_count": null,
   "id": "a6e5cece",
   "metadata": {},
   "outputs": [],
   "source": [
    "# Convert the result to a Pandas DataFrame\n",
    "pipeline=[match_query]\n",
    "results = list(establishments.aggregate(pipeline))\n",
    "hygiene_df = pd.DataFrame(results)\n",
    "# Display the number of rows in the DataFrame\n",
    "print(len(hygiene_df))\n",
    "# Display the first 10 rows of the DataFrame\n",
    "hygiene_df.head(10)"
   ]
  },
  {
   "cell_type": "markdown",
   "id": "0ef4395a",
   "metadata": {},
   "source": [
    "### 2. Which establishments in London have a `RatingValue` greater than or equal to 4?"
   ]
  },
  {
   "cell_type": "code",
   "execution_count": null,
   "id": "93c63829",
   "metadata": {},
   "outputs": [],
   "source": [
    "# Find the establishments with London as the Local Authority and has a RatingValue greater than or equal to 4.\n",
    "query_London = {'LocalAuthorityName':{'$regex':\"London\"},'RatingValue':{'$gte':4}}\n",
    "# Use count_documents to display the number of documents in the result\n",
    "establishments.count_documents(query_London)\n"
   ]
  },
  {
   "cell_type": "code",
   "execution_count": null,
   "id": "07e24ccb",
   "metadata": {},
   "outputs": [],
   "source": [
    "London_gte_4 = establishments.find(query_London)\n",
    "\n",
    "# Convert the result to a Pandas DataFrame\n",
    "London_gte_4_df = pd.DataFrame(list(London_gte_4))\n",
    "# Display the number of rows in the DataFrame\n",
    "print(len(London_gte_4_df))\n",
    "# Display the first 10 rows of the DataFrame\n",
    "London_gte_4_df.head(10)"
   ]
  },
  {
   "cell_type": "markdown",
   "id": "4e570caf",
   "metadata": {},
   "source": [
    "### 3. What are the top 5 establishments with a `RatingValue` rating value of 5, sorted by lowest hygiene score, nearest to the new restaurant added, \"Penang Flavours\"?"
   ]
  },
  {
   "cell_type": "code",
   "execution_count": null,
   "id": "7c0d1f7e",
   "metadata": {},
   "outputs": [],
   "source": [
    "#Identify the coordenates of the Penang Flavours restaurant.\n",
    "peanuts_coord = establishments.find_one({'BusinessName':{'$in':['Penang Flavours']}})\n",
    "pprint(peanuts_coord['geocode'])"
   ]
  },
  {
   "cell_type": "code",
   "execution_count": null,
   "id": "7f599f3d",
   "metadata": {},
   "outputs": [],
   "source": [
    "# Search within 0.01 degree on either side of the latitude and longitude.\n",
    "# Rating value must equal 5\n",
    "# Sort by hygiene score\n",
    "degree_search = 0.01\n",
    "latitude = 51.490142\n",
    "longitude = 0.08384\n",
    "query_Rating_5 = {'RatingValue':5,\n",
    "                 'geocode.latitude':{'$gte':latitude-degree_search, '$lte':latitude+degree_search},\n",
    "                 'geocode.longitude':{'$gte':longitude-degree_search,'$lte':longitude + degree_search}\n",
    "                 }\n",
    "\n",
    "\n",
    "\n",
    "Penang_coords = (latitude,longitude)\n",
    "\n",
    "\n",
    "\n",
    "#query_coord = {'geocode.latitude':{'gte':latitude}}\n",
    "sort =  [('scores.Hygiene', 1)]\n",
    "limit = 5\n",
    "results_2 = establishments.find(query_Rating_5).sort(sort).limit(limit)\n",
    "# Print the results\n",
    "for i in range(5):\n",
    "    pprint(results_2[i])"
   ]
  },
  {
   "cell_type": "code",
   "execution_count": null,
   "id": "a6ad16f7",
   "metadata": {},
   "outputs": [],
   "source": [
    "#  Convert result to Pandas DataFrame\n",
    "results_2_df = pd.DataFrame(list(results_2))\n",
    "results_2_df"
   ]
  },
  {
   "cell_type": "markdown",
   "id": "67281254",
   "metadata": {},
   "source": [
    "### 4. How many establishments in each Local Authority area have a hygiene score of 0?"
   ]
  },
  {
   "cell_type": "code",
   "execution_count": 1,
   "id": "4eeb227e",
   "metadata": {},
   "outputs": [
    {
     "ename": "NameError",
     "evalue": "name 'establishments' is not defined",
     "output_type": "error",
     "traceback": [
      "\u001b[1;31m---------------------------------------------------------------------------\u001b[0m",
      "\u001b[1;31mNameError\u001b[0m                                 Traceback (most recent call last)",
      "Cell \u001b[1;32mIn[1], line 12\u001b[0m\n\u001b[0;32m     10\u001b[0m pipeline_2 \u001b[38;5;241m=\u001b[39m [zero_hygiene,groups,sort_values]\n\u001b[0;32m     11\u001b[0m \u001b[38;5;66;03m# Run the pipeline through the aggregate method and save the results to a variable\u001b[39;00m\n\u001b[1;32m---> 12\u001b[0m results_3 \u001b[38;5;241m=\u001b[39m \u001b[38;5;28mlist\u001b[39m(establishments\u001b[38;5;241m.\u001b[39maggregate(pipeline_2))\n\u001b[0;32m     13\u001b[0m \u001b[38;5;66;03m# Print the number of documents in the result\u001b[39;00m\n\u001b[0;32m     14\u001b[0m \u001b[38;5;28mprint\u001b[39m(\u001b[38;5;124m\"\u001b[39m\u001b[38;5;124mNumber of establishments with hygiene score of 0: \u001b[39m\u001b[38;5;124m\"\u001b[39m, \u001b[38;5;28mlen\u001b[39m(results_3))\n",
      "\u001b[1;31mNameError\u001b[0m: name 'establishments' is not defined"
     ]
    }
   ],
   "source": [
    "# Create a pipeline that: \n",
    "# 1. Matches establishments with a hygiene score of 0\n",
    "zero_hygiene = {'$match': {'scores.Hygiene': 10}}\n",
    "# 2. Groups the matches by Local Authority\n",
    "groups = {'$group':{'_id':'$LocalAuthorityCode','count':{'$sum':1}}\n",
    "         }\n",
    "# 3. Sorts the matches from highest to lowest\n",
    "sort_values = {'$sort':{'count':-1}}\n",
    "#Putting the pipeline together.\n",
    "pipeline_2 = [zero_hygiene,groups,sort_values]\n",
    "# Run the pipeline through the aggregate method and save the results to a variable\n",
    "results_3 = list(establishments.aggregate(pipeline_2))\n",
    "# Print the number of documents in the result\n",
    "print(\"Number of establishments with hygiene score of 0: \", len(results_3))\n",
    "# Print the first 10 results\n",
    "pprint(results_3[0:10])"
   ]
  },
  {
   "cell_type": "code",
   "execution_count": 2,
   "id": "d8aab364",
   "metadata": {},
   "outputs": [
    {
     "ename": "NameError",
     "evalue": "name 'pd' is not defined",
     "output_type": "error",
     "traceback": [
      "\u001b[1;31m---------------------------------------------------------------------------\u001b[0m",
      "\u001b[1;31mNameError\u001b[0m                                 Traceback (most recent call last)",
      "Cell \u001b[1;32mIn[2], line 2\u001b[0m\n\u001b[0;32m      1\u001b[0m \u001b[38;5;66;03m# Convert the result to a Pandas DataFrame\u001b[39;00m\n\u001b[1;32m----> 2\u001b[0m results_3_df \u001b[38;5;241m=\u001b[39m pd\u001b[38;5;241m.\u001b[39mDataFrame(results_3)\n\u001b[0;32m      3\u001b[0m \u001b[38;5;66;03m# Display the number of rows in the DataFrame\u001b[39;00m\n\u001b[0;32m      4\u001b[0m \u001b[38;5;28mprint\u001b[39m(\u001b[38;5;124m\"\u001b[39m\u001b[38;5;124mThere are\u001b[39m\u001b[38;5;124m\"\u001b[39m,\u001b[38;5;28mlen\u001b[39m(results_3_df),\u001b[38;5;124m\"\u001b[39m\u001b[38;5;124mrows in the DataFrame\u001b[39m\u001b[38;5;124m\"\u001b[39m)\n",
      "\u001b[1;31mNameError\u001b[0m: name 'pd' is not defined"
     ]
    }
   ],
   "source": [
    "# Convert the result to a Pandas DataFrame\n",
    "results_3_df = pd.DataFrame(results_3)\n",
    "# Display the number of rows in the DataFrame\n",
    "print(\"There are\",len(results_3_df),\"rows in the DataFrame\")\n",
    "# Display the first 10 rows of the DataFrame\n",
    "results_3_df.head(10)"
   ]
  },
  {
   "cell_type": "code",
   "execution_count": null,
   "id": "3847a620",
   "metadata": {},
   "outputs": [],
   "source": []
  }
 ],
 "metadata": {
  "kernelspec": {
   "display_name": "Python 3 (ipykernel)",
   "language": "python",
   "name": "python3"
  },
  "language_info": {
   "codemirror_mode": {
    "name": "ipython",
    "version": 3
   },
   "file_extension": ".py",
   "mimetype": "text/x-python",
   "name": "python",
   "nbconvert_exporter": "python",
   "pygments_lexer": "ipython3",
   "version": "3.11.5"
  }
 },
 "nbformat": 4,
 "nbformat_minor": 5
}
